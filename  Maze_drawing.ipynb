{
  "nbformat": 4,
  "nbformat_minor": 0,
  "metadata": {
    "colab": {
      "name": "project 3",
      "provenance": [],
      "collapsed_sections": [
        "wowPJTYt9Tth"
      ],
      "include_colab_link": true
    },
    "kernelspec": {
      "name": "python3",
      "display_name": "Python 3"
    }
  },
  "cells": [
    {
      "cell_type": "markdown",
      "metadata": {
        "id": "view-in-github",
        "colab_type": "text"
      },
      "source": [
        "<a href=\"https://colab.research.google.com/github/LilySaya/Cprogramming_Duke/blob/master/%20Maze_drawing.ipynb\" target=\"_parent\"><img src=\"https://colab.research.google.com/assets/colab-badge.svg\" alt=\"Open In Colab\"/></a>"
      ]
    },
    {
      "cell_type": "markdown",
      "metadata": {
        "id": "uVMJ52mmPFwp"
      },
      "source": [
        "**IMPORTANT**: For students using Google Colab in Japanese, there could be a problem to print the maze. If the mazes are not displayed corectly, there are two possible solutions:\n",
        " - Use this link: https://colab.research.google.com/drive/1mNd_iKpEWUt1tITTJ4u7rRGQ_GwjEQ0Q?hl=ja\n",
        " - Switch to English language in ヘルプ menu"
      ]
    },
    {
      "cell_type": "markdown",
      "metadata": {
        "id": "rREWlwH68ulS"
      },
      "source": [
        "## Given Functions (nothing to do here)\n",
        "- Random maze generation\n",
        "- Maze drawing"
      ]
    },
    {
      "cell_type": "code",
      "metadata": {
        "colab": {
          "base_uri": "https://localhost:8080/"
        },
        "id": "ZLmtSQ7P7c2w",
        "outputId": "702f4802-7308-4807-ffb2-ac6dec80df35"
      },
      "source": [
        "import random\n",
        "import time\n",
        "\n",
        "# You do *not* need to modify this function\n",
        "def genRandMaze(n, p):\n",
        "  \"\"\" Generate a random maze of size n x n\n",
        "  p is the probability that there is a wall between each cell\n",
        "  Starting point is always the top-left cell (cell 0)\n",
        "  Goal is always the bottom-right cell (cell n^2-1)\n",
        "  \n",
        "  Cell are numbered from 0 to n^2-1 from top-left to bottom-right\n",
        "  Output: a graph encoded with adjacency list.\n",
        "          i.e. a list of n^2 lists of neighbors\n",
        "  \"\"\"\n",
        "  adjList = [ [] for _ in range(n*n)]  # initialize n^2 empty lists\n",
        "  \n",
        "  # Generate vertical walls (on the right of cell c)\n",
        "  for c in range(n*n):\n",
        "    if c%n == n-1: continue  # skip the last column\n",
        "    if random.random() > p:  # There is no wall\n",
        "      adjList[c].append(c+1) # can move from cell c to c+1\n",
        "      adjList[c+1].append(c) # can move from cell c+1 to c\n",
        "    \n",
        "  # Generate horizontal walls (below the cell c)\n",
        "  for c in range(n*n - n):   # skip the last row\n",
        "    if random.random() > p:  # There is no wall\n",
        "      adjList[c].append(c+n) # can move from cell c to c+n\n",
        "      adjList[c+n].append(c) # can move from cell c+n to c\n",
        "    \n",
        "  return adjList\n",
        "\n",
        "\n",
        "# You do *not* need to modify this function\n",
        "# This function works only for n >= 2\n",
        "# (anyway, it does not make sense to have a maze of size 1x1...)\n",
        "def printMaze(n, adjList, visited=None):\n",
        "  \"\"\" Display the maze of size n x n corresponding to adjList\n",
        "  \n",
        "  visited is an optional argument:\n",
        "  a list of Boolean value indicating wether a cell is visited or not\n",
        "  it will be useful for function BFSMaze below\n",
        "  \n",
        "  Note: This function was funny to write.\n",
        "        Have a look if you are curious :)\n",
        "        But it is probably not very clear\n",
        "  \"\"\"\n",
        "  # V, H, C are local functions callable only inside this printMaze function\n",
        "  def V(c): return \" \" if c+1 in adjList[c] else \"│\"\n",
        "  def H(c): return \" \" if c+n in adjList[c] else \"─\"\n",
        "  def C(c): \n",
        "    if c == 0: return \"S\"\n",
        "    elif visited==None or not visited[c]:\n",
        "      if c == n**2-1: return \"G\"\n",
        "      else: return \" \"\n",
        "    else: return \"X\"\n",
        "  print(\"┌\"+\"───┬\"*(n-1)+\"───┐\")\n",
        "  print(\"│ \"+C(0)+\" \"+\"\".join(V(i)+\" \"+C(i+1)+\" \" for i in range(n-1))+\"│\")\n",
        "  print(\"├─\"+\"─┼─\".join(H(i) for i in range(n))+\"─┤\")\n",
        "  for r in range(1, n-1):\n",
        "    print(\"│ \"+C(n*r)+\" \"+\"\".join(V(i)+\" \"+C(i+1)+\" \" for i in range(n*r, n*r+n-1))+\"│\")\n",
        "    print(\"├─\"+ \"─┼─\".join(H(i) for i in range(n*r,n*r+n))+\"─┤\")\n",
        "  print(\"│\"+\"\".join(\" \" + C(i)+\" \"+V(i) for i in range(n**2-n, n**2-1))+\" \"+C(n**2-1)+\" │\")\n",
        "  print(\"└\"+\"───┴\"*(n-1)+\"───┘\")\n",
        "\n",
        "\n",
        "# Print some examples to test\n",
        "maze1 = genRandMaze(3, 0.2)\n",
        "printMaze(3, maze1)\n"
      ],
      "execution_count": null,
      "outputs": [
        {
          "output_type": "stream",
          "text": [
            "┌───┬───┬───┐\n",
            "│ S         │\n",
            "├─ ─┼─ ─┼─ ─┤\n",
            "│           │\n",
            "├─ ─┼─ ─┼─ ─┤\n",
            "│         G │\n",
            "└───┴───┴───┘\n"
          ],
          "name": "stdout"
        }
      ]
    },
    {
      "cell_type": "code",
      "metadata": {
        "id": "jB_FPYU7_Gkp"
      },
      "source": [
        ""
      ],
      "execution_count": null,
      "outputs": []
    },
    {
      "cell_type": "markdown",
      "metadata": {
        "id": "wowPJTYt9Tth"
      },
      "source": [
        "## Maze Exploration (TODO HERE)\n",
        "- Explore the maze and find if there is a path from Start to Goal"
      ]
    },
    {
      "cell_type": "code",
      "metadata": {
        "colab": {
          "base_uri": "https://localhost:8080/"
        },
        "id": "o3JflPGC9HIU",
        "outputId": "67661de8-9626-46a0-b020-f9bd21ab0466"
      },
      "source": [
        "from IPython.display import clear_output\n",
        "\n",
        "# YOU NEED TO UPDATE THIS FUNCTION\n",
        "# THERE ARE THREE LINES MISSING\n",
        "# INDICATED BY XXXXXXX-TODO-XXXXXXX\n",
        "def BFSMaze(n, adjList, start,goal,displayDetails=False):\n",
        "  \"\"\" Execute a Breadth First Search algorithm on the maze\n",
        "      and check if Goal cell is reachable from Start cell\n",
        "      Return True if the goal is reachable and False if not.\n",
        "      \n",
        "      displayDetailsDetails is an optional argument that triggers\n",
        "      step-by-step printing of the maze. Useful for debugging.\n",
        "      But then should be set to False to do many simulations.\n",
        "  \"\"\"\n",
        "  if displayDetails:\n",
        "    print(\"Initial Maze\")\n",
        "    printMaze(n, adjList)\n",
        "    time.sleep(1)\n",
        "    \n",
        "  # Initialization of the BFS\n",
        "  visited = [False]*(n**2)  # Keep track of visited cells\n",
        "  visited[start] = True         # starting cell (cell 0) is visited\n",
        "  lastVisitedCells = [0]    # initially, only starting cell\n",
        "  \n",
        "  # Main loop of the BFS\n",
        "  step = 0\n",
        "  while True:\n",
        "    step += 1                 # Count the number of iterations\n",
        "    nextVisitedCells = []     # contains the cells that are reachable in one more step\n",
        "    for c in lastVisitedCells:         # For each cell reached in the previous iteration\n",
        "      for neigh in adjList[c]:         # look for all its neighbors and check if they have\n",
        "        if not visited[neigh]:         # have already been visited by the BFS\n",
        "          nextVisitedCells.append(neigh)\n",
        "          visited[neigh]=True\n",
        "    if nextVisitedCells == []:\n",
        "      # No new cells visited; it means that BFS is finished\n",
        "      # All cells connected to the starting cell have been explored\n",
        "      break  # Exit the loop\n",
        "    else: # Not yet over, let's update the set (list) of visited cells in the current iteration\n",
        "      lastVisitedCells=nextVisitedCells\n",
        "      if displayDetails:\n",
        "        print(f\"After {step} iterations, the following cells are reachable:\")\n",
        "        printMaze(n, adjList, visited)\n",
        "        time.sleep(1)\n",
        "    \n",
        "  # From here, the execution of the BFS is over\n",
        "  # Let's print and return the result (True or False)\n",
        "  if displayDetails:\n",
        "    if visited[goal]:    # could also write simpler “visited[-1]”\n",
        "      print(\"There is a path from starting point to goal :)\")\n",
        "    else:\n",
        "      print(\"There is no path from starting point to goal :(\")\n",
        "  return visited[goal]\n",
        "\n",
        "\n",
        "\n",
        "# For testing a simple example\n",
        "random.seed(0)\n",
        "N = 4\n",
        "P = 0.7\n",
        "maze = genRandMaze(N, P)\n",
        "BFSMaze(N, maze, 0,8,displayDetails=True)"
      ],
      "execution_count": null,
      "outputs": [
        {
          "output_type": "stream",
          "text": [
            "Initial Maze\n",
            "┌───┬───┬───┬───┐\n",
            "│ S         │   │\n",
            "├───┼─ ─┼───┼───┤\n",
            "│   │   │   │   │\n",
            "├─ ─┼─ ─┼─ ─┼─ ─┤\n",
            "│       │   │   │\n",
            "├───┼─ ─┼─ ─┼───┤\n",
            "│   │       │ G │\n",
            "└───┴───┴───┴───┘\n",
            "After 1 iterations, the following cells are reachable:\n",
            "┌───┬───┬───┬───┐\n",
            "│ S   X     │   │\n",
            "├───┼─ ─┼───┼───┤\n",
            "│   │   │   │   │\n",
            "├─ ─┼─ ─┼─ ─┼─ ─┤\n",
            "│       │   │   │\n",
            "├───┼─ ─┼─ ─┼───┤\n",
            "│   │       │ G │\n",
            "└───┴───┴───┴───┘\n",
            "After 2 iterations, the following cells are reachable:\n",
            "┌───┬───┬───┬───┐\n",
            "│ S   X   X │   │\n",
            "├───┼─ ─┼───┼───┤\n",
            "│   │ X │   │   │\n",
            "├─ ─┼─ ─┼─ ─┼─ ─┤\n",
            "│       │   │   │\n",
            "├───┼─ ─┼─ ─┼───┤\n",
            "│   │       │ G │\n",
            "└───┴───┴───┴───┘\n",
            "After 3 iterations, the following cells are reachable:\n",
            "┌───┬───┬───┬───┐\n",
            "│ S   X   X │   │\n",
            "├───┼─ ─┼───┼───┤\n",
            "│   │ X │   │   │\n",
            "├─ ─┼─ ─┼─ ─┼─ ─┤\n",
            "│     X │   │   │\n",
            "├───┼─ ─┼─ ─┼───┤\n",
            "│   │       │ G │\n",
            "└───┴───┴───┴───┘\n",
            "After 4 iterations, the following cells are reachable:\n",
            "┌───┬───┬───┬───┐\n",
            "│ S   X   X │   │\n",
            "├───┼─ ─┼───┼───┤\n",
            "│   │ X │   │   │\n",
            "├─ ─┼─ ─┼─ ─┼─ ─┤\n",
            "│ X   X │   │   │\n",
            "├───┼─ ─┼─ ─┼───┤\n",
            "│   │ X     │ G │\n",
            "└───┴───┴───┴───┘\n",
            "After 5 iterations, the following cells are reachable:\n",
            "┌───┬───┬───┬───┐\n",
            "│ S   X   X │   │\n",
            "├───┼─ ─┼───┼───┤\n",
            "│ X │ X │   │   │\n",
            "├─ ─┼─ ─┼─ ─┼─ ─┤\n",
            "│ X   X │   │   │\n",
            "├───┼─ ─┼─ ─┼───┤\n",
            "│   │ X   X │ G │\n",
            "└───┴───┴───┴───┘\n",
            "After 6 iterations, the following cells are reachable:\n",
            "┌───┬───┬───┬───┐\n",
            "│ S   X   X │   │\n",
            "├───┼─ ─┼───┼───┤\n",
            "│ X │ X │   │   │\n",
            "├─ ─┼─ ─┼─ ─┼─ ─┤\n",
            "│ X   X │ X │   │\n",
            "├───┼─ ─┼─ ─┼───┤\n",
            "│   │ X   X │ G │\n",
            "└───┴───┴───┴───┘\n",
            "After 7 iterations, the following cells are reachable:\n",
            "┌───┬───┬───┬───┐\n",
            "│ S   X   X │   │\n",
            "├───┼─ ─┼───┼───┤\n",
            "│ X │ X │ X │   │\n",
            "├─ ─┼─ ─┼─ ─┼─ ─┤\n",
            "│ X   X │ X │   │\n",
            "├───┼─ ─┼─ ─┼───┤\n",
            "│   │ X   X │ G │\n",
            "└───┴───┴───┴───┘\n",
            "There is a path from starting point to goal :)\n"
          ],
          "name": "stdout"
        },
        {
          "output_type": "execute_result",
          "data": {
            "text/plain": [
              "True"
            ]
          },
          "metadata": {
            "tags": []
          },
          "execution_count": 161
        }
      ]
    },
    {
      "cell_type": "markdown",
      "metadata": {
        "id": "NUpqFcISACug"
      },
      "source": [
        "## Simulations (TODO HERE)"
      ]
    },
    {
      "cell_type": "code",
      "metadata": {
        "id": "TB3V3NvHAGau",
        "colab": {
          "base_uri": "https://localhost:8080/",
          "height": 295
        },
        "outputId": "ef61bb70-6722-448e-9f00-0c584b9ff4a4"
      },
      "source": [
        "import matplotlib.pyplot as plt       # To plot graphics directly in python\n",
        "\n",
        "# YOU HAVE TO WRITE THIS FUNCTION\n",
        "def simulateFixedParameters(n, p, nbSimus):\n",
        "  \"\"\" Execute *nbSimus* simulations:\n",
        "      - Generate a maze with parameters *n* and *p*\n",
        "      - Check if there is a path from S to G\n",
        "      Return the percentage of success (success=there is path from S to G)\n",
        "  \"\"\"\n",
        "  success = 0\n",
        "  for _ in range(nbSimus):\n",
        "    maze = genRandMaze(n, p)\n",
        "    if BFSMaze(n, maze,0,n**2-1,displayDetails=False):\n",
        "      success+=1\n",
        "  return success/nbSimus   # Of course you need to remove this “return 0”\n",
        "\n",
        "\n",
        "# You do *not* need to modify this function\n",
        "# But you can if you want to change something\n",
        "def simulate_fixed_n(n, listP, nbSimus):\n",
        "  \"\"\" Excecute nbSimus simulations for all values of p in listP\n",
        "      Return the list of percentage of success for each value of p\n",
        "  \"\"\"\n",
        "  results = []\n",
        "  for p in listP:\n",
        "    results.append(simulateFixedParameters(n, p, nbSimus) )\n",
        "  return results\n",
        "\n",
        "def simulate_fixed_p(listN,p,nbSimus):\n",
        "  \"\"\"Execute nbSimus simulations for all values of n in listN\n",
        "     Return the list of percentage of success for each value of n\n",
        "  \"\"\"\n",
        "  results = []\n",
        "  for n in listN:\n",
        "    results.append(simulateFixedParameters(n,p,nbSimus))\n",
        "  return results\n",
        "\n",
        "# simulate function gives us data that we can use\n",
        "# to plot some nice curves\n",
        "# You can/should modify the values below\n",
        "listP = [0.0, 0.2, 0.4, 0.6, 0.8, 1.0]\n",
        "data_fixed_n = simulate_fixed_n(100, listP, 100)\n",
        "\n",
        "# Example of curve that you can obtain\n",
        "# Note: axis labels, title, ... are missing\n",
        "#       they should be added to have proper graphic\n",
        "plt.plot(listP, data_fixed_n)\n",
        "plt.xlabel(\"probability of having the wall\")\n",
        "plt.ylabel(\"success percentage\")\n",
        "plt.title(\"Success Percetange vs Probability for fixed maze size\")\n",
        "plt.show()\n",
        "\n",
        "\n",
        "\n",
        "\n"
      ],
      "execution_count": null,
      "outputs": [
        {
          "output_type": "display_data",
          "data": {
            "image/png": "[encoded data removed]",
            "text/plain": [
              "<Figure size 432x288 with 1 Axes>"
            ]
          },
          "metadata": {
            "tags": [],
            "needs_background": "light"
          }
        }
      ]
    },
    {
      "cell_type": "code",
      "metadata": {
        "colab": {
          "base_uri": "https://localhost:8080/",
          "height": 295
        },
        "id": "DtVYIiUVnYnB",
        "outputId": "0fb3a555-a89f-48d1-a10e-f6cee4b5a403"
      },
      "source": [
        "listN = [2,4,6,8,10,20,30,40,50]\n",
        "data_P_point2= simulate_fixed_p(listN,0.2,100)\n",
        "data_P_point5=simulate_fixed_p(listN,0.5,100)\n",
        "data_P_point8= simulate_fixed_p(listN,0.8,100)\n",
        "\n",
        "plt.plot(listN,data_P_point2,label=\"probab 0.2\")\n",
        "plt.plot(listN,data_P_point5,label=\"prob 0.5\")\n",
        "plt.plot(listN,data_P_point8,label=\"prob 0.8\")\n",
        "\n",
        "plt.legend()\n",
        "plt.xlabel(\"size of maze\")\n",
        "plt.yticks([0,0.2,0.4,0.6,0.8,1.0])\n",
        "plt.ylabel(\"success percentage\")\n",
        "plt.title(\"Success Percentage vs Maze Size for fixed probability\")\n",
        "plt.show()"
      ],
      "execution_count": null,
      "outputs": [
        {
          "output_type": "display_data",
          "data": {
            "image/png": "[encoded data removed]",
            "text/plain": [
              "<Figure size 432x288 with 1 Axes>"
            ]
          },
          "metadata": {
            "tags": [],
            "needs_background": "light"
          }
        }
      ]
    },
    {
      "cell_type": "code",
      "metadata": {
        "id": "JhfavteBnafW"
      },
      "source": [
        ""
      ],
      "execution_count": null,
      "outputs": []
    }
  ]
}